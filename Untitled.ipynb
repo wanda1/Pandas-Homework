{
 "cells": [
  {
   "cell_type": "code",
   "execution_count": 1,
   "id": "190bf41a-e5e7-47db-8415-73c509e0346a",
   "metadata": {},
   "outputs": [],
   "source": [
    "#In this assignment, you'll get to use what you've learned this week to evaluate the \n",
    "#performance among various algorithmic, hedge, and mutual fund portfolios and compare them against the S&P 500 Index."
   ]
  },
  {
   "cell_type": "code",
   "execution_count": 2,
   "id": "acc6ac0a-e3b9-4af0-9369-6b34dda562bb",
   "metadata": {},
   "outputs": [],
   "source": [
    "#Import necessary packages\n",
    "import pandas\n",
    "import numpy\n",
    "import datetime\n",
    "from pathlib import Path\n",
    "\n",
    "%matplotlib inline"
   ]
  },
  {
   "cell_type": "code",
   "execution_count": 3,
   "id": "4226f329-6960-412e-93e5-0005c87163d9",
   "metadata": {},
   "outputs": [],
   "source": [
    "#In this section, you will need to read the CSV files into DataFrames and perform any necessary data cleaning steps.\n",
    "#After cleaning, combine all DataFrames into a single DataFrame."
   ]
  },
  {
   "cell_type": "code",
   "execution_count": 5,
   "id": "32e53ed0-c71b-4944-a13d-932714abccc4",
   "metadata": {},
   "outputs": [
    {
     "data": {
      "text/plain": [
       "'C:\\\\Users\\\\wanda\\\\Pandas-homework'"
      ]
     },
     "execution_count": 5,
     "metadata": {},
     "output_type": "execute_result"
    }
   ],
   "source": [
    "import os\n",
    "os.getcwd()"
   ]
  },
  {
   "cell_type": "code",
   "execution_count": 10,
   "id": "3d102ca8-81b8-4f80-811d-989fac57ab3d",
   "metadata": {},
   "outputs": [],
   "source": [
    "#Creating filepaths and reading files using pandas\n",
    "\n",
    "whale_path = Path(\"~/Pandas-homework/Resources/whale_returns.csv\")\n",
    "algo_path = Path(\"~/Pandas-homework/Resources/algo_returns.csv\")\n",
    "sp500_path = Path(\"~/Pandas-homework/Resources/sp500_history.csv\")\n",
    "\n",
    "whale_df = pandas.read_csv(whale_path)\n",
    "algo_df = pandas.read_csv(algo_path)\n",
    "sp500_df = pandas.read_csv(sp500_path)"
   ]
  },
  {
   "cell_type": "code",
   "execution_count": null,
   "id": "d2fc38c6-ae66-45f4-8244-8e15460db1b3",
   "metadata": {},
   "outputs": [],
   "source": []
  }
 ],
 "metadata": {
  "kernelspec": {
   "display_name": "Python 3",
   "language": "python",
   "name": "python3"
  },
  "language_info": {
   "codemirror_mode": {
    "name": "ipython",
    "version": 3
   },
   "file_extension": ".py",
   "mimetype": "text/x-python",
   "name": "python",
   "nbconvert_exporter": "python",
   "pygments_lexer": "ipython3",
   "version": "3.8.5"
  }
 },
 "nbformat": 4,
 "nbformat_minor": 5
}
